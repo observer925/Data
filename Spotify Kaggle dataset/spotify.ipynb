{
 "cells": [
  {
   "cell_type": "markdown",
   "id": "1914032b",
   "metadata": {},
   "source": [
    "# Project Aim"
   ]
  },
  {
   "cell_type": "markdown",
   "id": "dcefc634",
   "metadata": {},
   "source": [
    "In this analysis I explore Spotify’s Top 50 tracks of 2020 with three goals:\n",
    "\n",
    "Audio profile summary – to show the typical values and spread of key numeric features (danceability, loudness, etc.), so we know what the 2020 chart “sounds like.”\n",
    "\n",
    "Hit concentration – to identify artists and albums with multiple entries in the Top 50 to see if a few names dominate the chart or if success is more evenly spread.\n",
    "\n",
    "Genre comparison – compare Pop, Hip-Hop/Rap, Dance/Electronic, and Alternative/Indie on danceability, loudness, and acousticness to see how their sound profiles differ.\n",
    "\n",
    "I also do the essentials, like data cleaning: handling missing values, duplicates, and outliers. Also I examine feature correlations, to see which audio attributes tend to move together. These goals give me a clear view of what made a hit in 2020 and where there is room for new sounds or artists to stand out."
   ]
  },
  {
   "cell_type": "markdown",
   "id": "d9683819",
   "metadata": {},
   "source": [
    "# 1. Downloading \"Spotify Top 50 Tracks of 2020\" dataset from Kaggle:"
   ]
  },
  {
   "cell_type": "code",
   "execution_count": 145,
   "id": "cc75645f",
   "metadata": {},
   "outputs": [
    {
     "name": "stdout",
     "output_type": "stream",
     "text": [
      "Path to dataset files: C:\\Users\\Darius\\.cache\\kagglehub\\datasets\\atillacolak\\top-50-spotify-tracks-2020\\versions\\2\n"
     ]
    }
   ],
   "source": [
    "import kagglehub\n",
    "\n",
    "path = kagglehub.dataset_download(\"atillacolak/top-50-spotify-tracks-2020\")\n",
    "\n",
    "print(\"Path to dataset files:\", path)"
   ]
  },
  {
   "cell_type": "markdown",
   "id": "25e436cf",
   "metadata": {},
   "source": [
    "# 2. Loading data (CSV file) using Pandas:"
   ]
  },
  {
   "cell_type": "code",
   "execution_count": 146,
   "id": "ccb3bcae",
   "metadata": {},
   "outputs": [
    {
     "data": {
      "text/html": [
       "<div>\n",
       "<style scoped>\n",
       "    .dataframe tbody tr th:only-of-type {\n",
       "        vertical-align: middle;\n",
       "    }\n",
       "\n",
       "    .dataframe tbody tr th {\n",
       "        vertical-align: top;\n",
       "    }\n",
       "\n",
       "    .dataframe thead th {\n",
       "        text-align: right;\n",
       "    }\n",
       "</style>\n",
       "<table border=\"1\" class=\"dataframe\">\n",
       "  <thead>\n",
       "    <tr style=\"text-align: right;\">\n",
       "      <th></th>\n",
       "      <th>artist</th>\n",
       "      <th>album</th>\n",
       "      <th>track_name</th>\n",
       "      <th>track_id</th>\n",
       "      <th>energy</th>\n",
       "      <th>danceability</th>\n",
       "      <th>key</th>\n",
       "      <th>loudness</th>\n",
       "      <th>acousticness</th>\n",
       "      <th>speechiness</th>\n",
       "      <th>instrumentalness</th>\n",
       "      <th>liveness</th>\n",
       "      <th>valence</th>\n",
       "      <th>tempo</th>\n",
       "      <th>duration_ms</th>\n",
       "      <th>genre</th>\n",
       "    </tr>\n",
       "  </thead>\n",
       "  <tbody>\n",
       "    <tr>\n",
       "      <th>0</th>\n",
       "      <td>The Weeknd</td>\n",
       "      <td>After Hours</td>\n",
       "      <td>Blinding Lights</td>\n",
       "      <td>0VjIjW4GlUZAMYd2vXMi3b</td>\n",
       "      <td>0.730</td>\n",
       "      <td>0.514</td>\n",
       "      <td>1</td>\n",
       "      <td>-5.934</td>\n",
       "      <td>0.00146</td>\n",
       "      <td>0.0598</td>\n",
       "      <td>0.000095</td>\n",
       "      <td>0.0897</td>\n",
       "      <td>0.334</td>\n",
       "      <td>171.005</td>\n",
       "      <td>200040</td>\n",
       "      <td>R&amp;B/Soul</td>\n",
       "    </tr>\n",
       "    <tr>\n",
       "      <th>1</th>\n",
       "      <td>Tones And I</td>\n",
       "      <td>Dance Monkey</td>\n",
       "      <td>Dance Monkey</td>\n",
       "      <td>1rgnBhdG2JDFTbYkYRZAku</td>\n",
       "      <td>0.593</td>\n",
       "      <td>0.825</td>\n",
       "      <td>6</td>\n",
       "      <td>-6.401</td>\n",
       "      <td>0.68800</td>\n",
       "      <td>0.0988</td>\n",
       "      <td>0.000161</td>\n",
       "      <td>0.1700</td>\n",
       "      <td>0.540</td>\n",
       "      <td>98.078</td>\n",
       "      <td>209755</td>\n",
       "      <td>Alternative/Indie</td>\n",
       "    </tr>\n",
       "    <tr>\n",
       "      <th>2</th>\n",
       "      <td>Roddy Ricch</td>\n",
       "      <td>Please Excuse Me For Being Antisocial</td>\n",
       "      <td>The Box</td>\n",
       "      <td>0nbXyq5TXYPCO7pr3N8S4I</td>\n",
       "      <td>0.586</td>\n",
       "      <td>0.896</td>\n",
       "      <td>10</td>\n",
       "      <td>-6.687</td>\n",
       "      <td>0.10400</td>\n",
       "      <td>0.0559</td>\n",
       "      <td>0.000000</td>\n",
       "      <td>0.7900</td>\n",
       "      <td>0.642</td>\n",
       "      <td>116.971</td>\n",
       "      <td>196653</td>\n",
       "      <td>Hip-Hop/Rap</td>\n",
       "    </tr>\n",
       "    <tr>\n",
       "      <th>3</th>\n",
       "      <td>SAINt JHN</td>\n",
       "      <td>Roses (Imanbek Remix)</td>\n",
       "      <td>Roses - Imanbek Remix</td>\n",
       "      <td>2Wo6QQD1KMDWeFkkjLqwx5</td>\n",
       "      <td>0.721</td>\n",
       "      <td>0.785</td>\n",
       "      <td>8</td>\n",
       "      <td>-5.457</td>\n",
       "      <td>0.01490</td>\n",
       "      <td>0.0506</td>\n",
       "      <td>0.004320</td>\n",
       "      <td>0.2850</td>\n",
       "      <td>0.894</td>\n",
       "      <td>121.962</td>\n",
       "      <td>176219</td>\n",
       "      <td>Dance/Electronic</td>\n",
       "    </tr>\n",
       "    <tr>\n",
       "      <th>4</th>\n",
       "      <td>Dua Lipa</td>\n",
       "      <td>Future Nostalgia</td>\n",
       "      <td>Don't Start Now</td>\n",
       "      <td>3PfIrDoz19wz7qK7tYeu62</td>\n",
       "      <td>0.793</td>\n",
       "      <td>0.793</td>\n",
       "      <td>11</td>\n",
       "      <td>-4.521</td>\n",
       "      <td>0.01230</td>\n",
       "      <td>0.0830</td>\n",
       "      <td>0.000000</td>\n",
       "      <td>0.0951</td>\n",
       "      <td>0.679</td>\n",
       "      <td>123.950</td>\n",
       "      <td>183290</td>\n",
       "      <td>Nu-disco</td>\n",
       "    </tr>\n",
       "  </tbody>\n",
       "</table>\n",
       "</div>"
      ],
      "text/plain": [
       "        artist                                  album             track_name  \\\n",
       "0   The Weeknd                            After Hours        Blinding Lights   \n",
       "1  Tones And I                           Dance Monkey           Dance Monkey   \n",
       "2  Roddy Ricch  Please Excuse Me For Being Antisocial                The Box   \n",
       "3    SAINt JHN                  Roses (Imanbek Remix)  Roses - Imanbek Remix   \n",
       "4     Dua Lipa                       Future Nostalgia        Don't Start Now   \n",
       "\n",
       "                 track_id  energy  danceability  key  loudness  acousticness  \\\n",
       "0  0VjIjW4GlUZAMYd2vXMi3b   0.730         0.514    1    -5.934       0.00146   \n",
       "1  1rgnBhdG2JDFTbYkYRZAku   0.593         0.825    6    -6.401       0.68800   \n",
       "2  0nbXyq5TXYPCO7pr3N8S4I   0.586         0.896   10    -6.687       0.10400   \n",
       "3  2Wo6QQD1KMDWeFkkjLqwx5   0.721         0.785    8    -5.457       0.01490   \n",
       "4  3PfIrDoz19wz7qK7tYeu62   0.793         0.793   11    -4.521       0.01230   \n",
       "\n",
       "   speechiness  instrumentalness  liveness  valence    tempo  duration_ms  \\\n",
       "0       0.0598          0.000095    0.0897    0.334  171.005       200040   \n",
       "1       0.0988          0.000161    0.1700    0.540   98.078       209755   \n",
       "2       0.0559          0.000000    0.7900    0.642  116.971       196653   \n",
       "3       0.0506          0.004320    0.2850    0.894  121.962       176219   \n",
       "4       0.0830          0.000000    0.0951    0.679  123.950       183290   \n",
       "\n",
       "               genre  \n",
       "0           R&B/Soul  \n",
       "1  Alternative/Indie  \n",
       "2        Hip-Hop/Rap  \n",
       "3   Dance/Electronic  \n",
       "4           Nu-disco  "
      ]
     },
     "execution_count": 146,
     "metadata": {},
     "output_type": "execute_result"
    }
   ],
   "source": [
    "import pandas as pd\n",
    "\n",
    "spotify = pd.read_csv(\"spotifytoptracks.csv\", index_col=0)\n",
    "\n",
    "spotify.head()"
   ]
  },
  {
   "cell_type": "markdown",
   "id": "a4a68fb9",
   "metadata": {},
   "source": [
    "# 3. Data cleaning."
   ]
  },
  {
   "cell_type": "markdown",
   "id": "a215a490",
   "metadata": {},
   "source": [
    "## Handling missing values."
   ]
  },
  {
   "cell_type": "markdown",
   "id": "abe95ef8",
   "metadata": {},
   "source": [
    "By using .isna() method I create a dataframe with Boolean values: True for NaN or None, and False for everything else.\n",
    "\n",
    "Then, with .any() method I check if there are any missing values (True) in any column (default axis=0)."
   ]
  },
  {
   "cell_type": "code",
   "execution_count": 147,
   "id": "4d349cc3",
   "metadata": {},
   "outputs": [
    {
     "data": {
      "text/plain": [
       "artist              False\n",
       "album               False\n",
       "track_name          False\n",
       "track_id            False\n",
       "energy              False\n",
       "danceability        False\n",
       "key                 False\n",
       "loudness            False\n",
       "acousticness        False\n",
       "speechiness         False\n",
       "instrumentalness    False\n",
       "liveness            False\n",
       "valence             False\n",
       "tempo               False\n",
       "duration_ms         False\n",
       "genre               False\n",
       "dtype: bool"
      ]
     },
     "execution_count": 147,
     "metadata": {},
     "output_type": "execute_result"
    }
   ],
   "source": [
    "missing_data = spotify.isna().any()\n",
    "missing_data\n"
   ]
  },
  {
   "cell_type": "markdown",
   "id": "f9bfe669",
   "metadata": {},
   "source": [
    ".any() returned a boolean series indexed by column names, with all False values, meaning there are no missing values.\n",
    "\n",
    "If, say, there were missing values, I would check the quantity of missing data per row and column with isna().sum(). \n",
    "\n",
    "If only few missing values here and there, I would use .fillna() to fill the gaps with either mean or median.\n",
    "\n",
    "And if missing quantity is bigger, I would drop the rows or columns right away, depending on how missing data is scattered."
   ]
  },
  {
   "cell_type": "markdown",
   "id": "e166fb20",
   "metadata": {},
   "source": [
    "## Checking for duplicates."
   ]
  },
  {
   "cell_type": "markdown",
   "id": "a0f7d167",
   "metadata": {},
   "source": [
    "I use .duplicated(), which return boolean series with True if there is a duplicated row, or else False. \n",
    "\n",
    "Then .any() checks whether any row is duplicated.\n",
    "\n",
    "Then I do the same for column names.\n",
    "\n",
    "Since .duplicated() works just on rows, I transpose the dataframe with spotify.T."
   ]
  },
  {
   "cell_type": "code",
   "execution_count": 148,
   "id": "f687cd6c",
   "metadata": {},
   "outputs": [
    {
     "name": "stdout",
     "output_type": "stream",
     "text": [
      "False False False\n"
     ]
    }
   ],
   "source": [
    "dup_rows = spotify.duplicated().any()\n",
    "dup_col_names = spotify.columns.duplicated().any()\n",
    "dup_col_content = spotify.T.duplicated().any()\n",
    "\n",
    "print(dup_rows, dup_col_names, dup_col_content)\n"
   ]
  },
  {
   "cell_type": "markdown",
   "id": "65f610b9",
   "metadata": {},
   "source": [
    "If there were duplicates, I would use .drop_duplicates() to remove them."
   ]
  },
  {
   "cell_type": "markdown",
   "id": "34438042",
   "metadata": {},
   "source": [
    "## Treating the outliers."
   ]
  },
  {
   "cell_type": "markdown",
   "id": "996b1b7b",
   "metadata": {},
   "source": [
    "First I choose the columns, that makes sense to check for outliers, so I drop categorical columns: \"artist\", \"album\", \"track_name\", \"track_id\" and \"genre\".\n",
    "\n",
    "Then I use .describe() to look at the quick summary, to get a feel, whether there could be any outliers, based on the min/max and precentiles."
   ]
  },
  {
   "cell_type": "code",
   "execution_count": 149,
   "id": "b64248a5",
   "metadata": {},
   "outputs": [
    {
     "data": {
      "text/html": [
       "<div>\n",
       "<style scoped>\n",
       "    .dataframe tbody tr th:only-of-type {\n",
       "        vertical-align: middle;\n",
       "    }\n",
       "\n",
       "    .dataframe tbody tr th {\n",
       "        vertical-align: top;\n",
       "    }\n",
       "\n",
       "    .dataframe thead th {\n",
       "        text-align: right;\n",
       "    }\n",
       "</style>\n",
       "<table border=\"1\" class=\"dataframe\">\n",
       "  <thead>\n",
       "    <tr style=\"text-align: right;\">\n",
       "      <th></th>\n",
       "      <th>energy</th>\n",
       "      <th>danceability</th>\n",
       "      <th>key</th>\n",
       "      <th>loudness</th>\n",
       "      <th>acousticness</th>\n",
       "      <th>speechiness</th>\n",
       "      <th>instrumentalness</th>\n",
       "      <th>liveness</th>\n",
       "      <th>valence</th>\n",
       "      <th>tempo</th>\n",
       "      <th>duration_ms</th>\n",
       "    </tr>\n",
       "  </thead>\n",
       "  <tbody>\n",
       "    <tr>\n",
       "      <th>count</th>\n",
       "      <td>50.0000</td>\n",
       "      <td>50.0000</td>\n",
       "      <td>50.000</td>\n",
       "      <td>50.0000</td>\n",
       "      <td>50.0000</td>\n",
       "      <td>50.0000</td>\n",
       "      <td>50.0000</td>\n",
       "      <td>50.0000</td>\n",
       "      <td>50.0000</td>\n",
       "      <td>50.0000</td>\n",
       "      <td>50.0000</td>\n",
       "    </tr>\n",
       "    <tr>\n",
       "      <th>mean</th>\n",
       "      <td>0.6093</td>\n",
       "      <td>0.7167</td>\n",
       "      <td>5.720</td>\n",
       "      <td>-6.2259</td>\n",
       "      <td>0.2562</td>\n",
       "      <td>0.1242</td>\n",
       "      <td>0.0160</td>\n",
       "      <td>0.1966</td>\n",
       "      <td>0.5557</td>\n",
       "      <td>119.6905</td>\n",
       "      <td>199955.3600</td>\n",
       "    </tr>\n",
       "    <tr>\n",
       "      <th>std</th>\n",
       "      <td>0.1543</td>\n",
       "      <td>0.1250</td>\n",
       "      <td>3.709</td>\n",
       "      <td>2.3497</td>\n",
       "      <td>0.2653</td>\n",
       "      <td>0.1168</td>\n",
       "      <td>0.0943</td>\n",
       "      <td>0.1766</td>\n",
       "      <td>0.2164</td>\n",
       "      <td>25.4148</td>\n",
       "      <td>33996.1225</td>\n",
       "    </tr>\n",
       "    <tr>\n",
       "      <th>min</th>\n",
       "      <td>0.2250</td>\n",
       "      <td>0.3510</td>\n",
       "      <td>0.000</td>\n",
       "      <td>-14.4540</td>\n",
       "      <td>0.0015</td>\n",
       "      <td>0.0290</td>\n",
       "      <td>0.0000</td>\n",
       "      <td>0.0574</td>\n",
       "      <td>0.0605</td>\n",
       "      <td>75.8010</td>\n",
       "      <td>140526.0000</td>\n",
       "    </tr>\n",
       "    <tr>\n",
       "      <th>25%</th>\n",
       "      <td>0.4940</td>\n",
       "      <td>0.6725</td>\n",
       "      <td>2.000</td>\n",
       "      <td>-7.5525</td>\n",
       "      <td>0.0528</td>\n",
       "      <td>0.0483</td>\n",
       "      <td>0.0000</td>\n",
       "      <td>0.0940</td>\n",
       "      <td>0.4340</td>\n",
       "      <td>99.5572</td>\n",
       "      <td>175845.5000</td>\n",
       "    </tr>\n",
       "    <tr>\n",
       "      <th>50%</th>\n",
       "      <td>0.5970</td>\n",
       "      <td>0.7460</td>\n",
       "      <td>6.500</td>\n",
       "      <td>-5.9915</td>\n",
       "      <td>0.1885</td>\n",
       "      <td>0.0700</td>\n",
       "      <td>0.0000</td>\n",
       "      <td>0.1110</td>\n",
       "      <td>0.5600</td>\n",
       "      <td>116.9690</td>\n",
       "      <td>197853.5000</td>\n",
       "    </tr>\n",
       "    <tr>\n",
       "      <th>75%</th>\n",
       "      <td>0.7298</td>\n",
       "      <td>0.7945</td>\n",
       "      <td>8.750</td>\n",
       "      <td>-4.2855</td>\n",
       "      <td>0.2987</td>\n",
       "      <td>0.1555</td>\n",
       "      <td>0.0000</td>\n",
       "      <td>0.2712</td>\n",
       "      <td>0.7262</td>\n",
       "      <td>132.3170</td>\n",
       "      <td>215064.0000</td>\n",
       "    </tr>\n",
       "    <tr>\n",
       "      <th>max</th>\n",
       "      <td>0.8550</td>\n",
       "      <td>0.9350</td>\n",
       "      <td>11.000</td>\n",
       "      <td>-3.2800</td>\n",
       "      <td>0.9340</td>\n",
       "      <td>0.4870</td>\n",
       "      <td>0.6570</td>\n",
       "      <td>0.7920</td>\n",
       "      <td>0.9250</td>\n",
       "      <td>180.0670</td>\n",
       "      <td>312820.0000</td>\n",
       "    </tr>\n",
       "  </tbody>\n",
       "</table>\n",
       "</div>"
      ],
      "text/plain": [
       "        energy  danceability     key  loudness  acousticness  speechiness  \\\n",
       "count  50.0000       50.0000  50.000   50.0000       50.0000      50.0000   \n",
       "mean    0.6093        0.7167   5.720   -6.2259        0.2562       0.1242   \n",
       "std     0.1543        0.1250   3.709    2.3497        0.2653       0.1168   \n",
       "min     0.2250        0.3510   0.000  -14.4540        0.0015       0.0290   \n",
       "25%     0.4940        0.6725   2.000   -7.5525        0.0528       0.0483   \n",
       "50%     0.5970        0.7460   6.500   -5.9915        0.1885       0.0700   \n",
       "75%     0.7298        0.7945   8.750   -4.2855        0.2987       0.1555   \n",
       "max     0.8550        0.9350  11.000   -3.2800        0.9340       0.4870   \n",
       "\n",
       "       instrumentalness  liveness  valence     tempo  duration_ms  \n",
       "count           50.0000   50.0000  50.0000   50.0000      50.0000  \n",
       "mean             0.0160    0.1966   0.5557  119.6905  199955.3600  \n",
       "std              0.0943    0.1766   0.2164   25.4148   33996.1225  \n",
       "min              0.0000    0.0574   0.0605   75.8010  140526.0000  \n",
       "25%              0.0000    0.0940   0.4340   99.5572  175845.5000  \n",
       "50%              0.0000    0.1110   0.5600  116.9690  197853.5000  \n",
       "75%              0.0000    0.2712   0.7262  132.3170  215064.0000  \n",
       "max              0.6570    0.7920   0.9250  180.0670  312820.0000  "
      ]
     },
     "execution_count": 149,
     "metadata": {},
     "output_type": "execute_result"
    }
   ],
   "source": [
    "outliers = spotify.iloc[:, 4:15]\n",
    "outliers.describe().round(4)\n"
   ]
  },
  {
   "cell_type": "markdown",
   "id": "8bf6bc64",
   "metadata": {},
   "source": [
    "Then I check the count of upper and lower outliers based on the IQR.\n",
    "\n",
    "To get IQR, I compute 25th and 75th precentiles with .quantile().\n",
    "\n",
    "Then I define lower and upper fences at 1.5 (50%) x IQR below q1 and above q3.\n",
    "\n",
    "With boolean mask I look for outliers: values, that are outside the fences.\n",
    "\n",
    "Then I take a sum per column to have an overview of how much of outliers I have there."
   ]
  },
  {
   "cell_type": "code",
   "execution_count": 150,
   "id": "6c1b4464",
   "metadata": {},
   "outputs": [
    {
     "name": "stdout",
     "output_type": "stream",
     "text": [
      "energy               0\n",
      "danceability         3\n",
      "key                  0\n",
      "loudness             1\n",
      "acousticness         7\n",
      "speechiness          6\n",
      "instrumentalness    12\n",
      "liveness             3\n",
      "valence              0\n",
      "tempo                0\n",
      "duration_ms          2\n",
      "dtype: int64\n"
     ]
    }
   ],
   "source": [
    "q1 = outliers.quantile(0.25)\n",
    "q3 = outliers.quantile(0.75)\n",
    "iqr = q3 - q1\n",
    "\n",
    "lower_fence = q1 - 1.5 * iqr\n",
    "upper_fence = q3 + 1.5 * iqr\n",
    "\n",
    "outliers_check = (outliers < lower_fence) | (outliers > upper_fence)\n",
    "\n",
    "outliers_count = outliers_check.sum()\n",
    "\n",
    "print(outliers_count)"
   ]
  },
  {
   "cell_type": "markdown",
   "id": "6ca4ef31",
   "metadata": {},
   "source": [
    "Outliers can be treated similar to missing values and duplicates. \n",
    "\n",
    "We either substitute them with more relevant value, like median, or drop rows/columns if outlier count is too high to impact the interpretation of the data.\n",
    "\n",
    "I decided not to treat the outliers in this case and continue with full dataset, because based on the further tasks: summaries, correlations, genre comparison - leaving those outliers will not meaningfully impact the results."
   ]
  },
  {
   "cell_type": "markdown",
   "id": "1a1dd706",
   "metadata": {},
   "source": [
    "# 4. Performing EDA."
   ]
  },
  {
   "cell_type": "markdown",
   "id": "6595ed86",
   "metadata": {},
   "source": [
    "## 4.1. How many observations are there in this dataset?"
   ]
  },
  {
   "cell_type": "markdown",
   "id": "dc120eb8",
   "metadata": {},
   "source": [
    "Observations = rows. Using .shape attribute."
   ]
  },
  {
   "cell_type": "code",
   "execution_count": 151,
   "id": "78a852fa",
   "metadata": {},
   "outputs": [
    {
     "data": {
      "text/plain": [
       "50"
      ]
     },
     "execution_count": 151,
     "metadata": {},
     "output_type": "execute_result"
    }
   ],
   "source": [
    "spotify.shape[0]"
   ]
  },
  {
   "cell_type": "markdown",
   "id": "22a7f4c2",
   "metadata": {},
   "source": [
    "#### Takeaway: \n",
    "\n",
    "##### 50 observations. We are looking at very focused sample of top 50 hits of 2020, which means every row is already a success, so any pattern we find out will point directly to what resonated the most with listeners that year."
   ]
  },
  {
   "cell_type": "markdown",
   "id": "a0908847",
   "metadata": {},
   "source": [
    "## 4.2 How many features this dataset has?"
   ]
  },
  {
   "cell_type": "markdown",
   "id": "a65e0d35",
   "metadata": {},
   "source": [
    "Features = columns."
   ]
  },
  {
   "cell_type": "code",
   "execution_count": 152,
   "id": "5eea1621",
   "metadata": {},
   "outputs": [
    {
     "data": {
      "text/plain": [
       "16"
      ]
     },
     "execution_count": 152,
     "metadata": {},
     "output_type": "execute_result"
    }
   ],
   "source": [
    "spotify.shape[1]"
   ]
  },
  {
   "cell_type": "markdown",
   "id": "bb9167eb",
   "metadata": {},
   "source": [
    "#### Takeaway:\n",
    "\n",
    "##### 16 features. So each track has 16 different data points to work on."
   ]
  },
  {
   "cell_type": "markdown",
   "id": "041b9754",
   "metadata": {},
   "source": [
    "## 4.3 Which of the features are categorical and numeric?"
   ]
  },
  {
   "cell_type": "markdown",
   "id": "aaa50076",
   "metadata": {},
   "source": [
    "First I check each column's dtype and for more precise evaluation I check the first 5 rows of the dataset."
   ]
  },
  {
   "cell_type": "code",
   "execution_count": 153,
   "id": "bd6e9a64",
   "metadata": {},
   "outputs": [
    {
     "name": "stdout",
     "output_type": "stream",
     "text": [
      "artist               object\n",
      "album                object\n",
      "track_name           object\n",
      "track_id             object\n",
      "energy              float64\n",
      "danceability        float64\n",
      "key                   int64\n",
      "loudness            float64\n",
      "acousticness        float64\n",
      "speechiness         float64\n",
      "instrumentalness    float64\n",
      "liveness            float64\n",
      "valence             float64\n",
      "tempo               float64\n",
      "duration_ms           int64\n",
      "genre                object\n",
      "dtype: object\n"
     ]
    },
    {
     "data": {
      "text/html": [
       "<div>\n",
       "<style scoped>\n",
       "    .dataframe tbody tr th:only-of-type {\n",
       "        vertical-align: middle;\n",
       "    }\n",
       "\n",
       "    .dataframe tbody tr th {\n",
       "        vertical-align: top;\n",
       "    }\n",
       "\n",
       "    .dataframe thead th {\n",
       "        text-align: right;\n",
       "    }\n",
       "</style>\n",
       "<table border=\"1\" class=\"dataframe\">\n",
       "  <thead>\n",
       "    <tr style=\"text-align: right;\">\n",
       "      <th></th>\n",
       "      <th>artist</th>\n",
       "      <th>album</th>\n",
       "      <th>track_name</th>\n",
       "      <th>track_id</th>\n",
       "      <th>energy</th>\n",
       "      <th>danceability</th>\n",
       "      <th>key</th>\n",
       "      <th>loudness</th>\n",
       "      <th>acousticness</th>\n",
       "      <th>speechiness</th>\n",
       "      <th>instrumentalness</th>\n",
       "      <th>liveness</th>\n",
       "      <th>valence</th>\n",
       "      <th>tempo</th>\n",
       "      <th>duration_ms</th>\n",
       "      <th>genre</th>\n",
       "    </tr>\n",
       "  </thead>\n",
       "  <tbody>\n",
       "    <tr>\n",
       "      <th>0</th>\n",
       "      <td>The Weeknd</td>\n",
       "      <td>After Hours</td>\n",
       "      <td>Blinding Lights</td>\n",
       "      <td>0VjIjW4GlUZAMYd2vXMi3b</td>\n",
       "      <td>0.730</td>\n",
       "      <td>0.514</td>\n",
       "      <td>1</td>\n",
       "      <td>-5.934</td>\n",
       "      <td>0.00146</td>\n",
       "      <td>0.0598</td>\n",
       "      <td>0.000095</td>\n",
       "      <td>0.0897</td>\n",
       "      <td>0.334</td>\n",
       "      <td>171.005</td>\n",
       "      <td>200040</td>\n",
       "      <td>R&amp;B/Soul</td>\n",
       "    </tr>\n",
       "    <tr>\n",
       "      <th>1</th>\n",
       "      <td>Tones And I</td>\n",
       "      <td>Dance Monkey</td>\n",
       "      <td>Dance Monkey</td>\n",
       "      <td>1rgnBhdG2JDFTbYkYRZAku</td>\n",
       "      <td>0.593</td>\n",
       "      <td>0.825</td>\n",
       "      <td>6</td>\n",
       "      <td>-6.401</td>\n",
       "      <td>0.68800</td>\n",
       "      <td>0.0988</td>\n",
       "      <td>0.000161</td>\n",
       "      <td>0.1700</td>\n",
       "      <td>0.540</td>\n",
       "      <td>98.078</td>\n",
       "      <td>209755</td>\n",
       "      <td>Alternative/Indie</td>\n",
       "    </tr>\n",
       "    <tr>\n",
       "      <th>2</th>\n",
       "      <td>Roddy Ricch</td>\n",
       "      <td>Please Excuse Me For Being Antisocial</td>\n",
       "      <td>The Box</td>\n",
       "      <td>0nbXyq5TXYPCO7pr3N8S4I</td>\n",
       "      <td>0.586</td>\n",
       "      <td>0.896</td>\n",
       "      <td>10</td>\n",
       "      <td>-6.687</td>\n",
       "      <td>0.10400</td>\n",
       "      <td>0.0559</td>\n",
       "      <td>0.000000</td>\n",
       "      <td>0.7900</td>\n",
       "      <td>0.642</td>\n",
       "      <td>116.971</td>\n",
       "      <td>196653</td>\n",
       "      <td>Hip-Hop/Rap</td>\n",
       "    </tr>\n",
       "    <tr>\n",
       "      <th>3</th>\n",
       "      <td>SAINt JHN</td>\n",
       "      <td>Roses (Imanbek Remix)</td>\n",
       "      <td>Roses - Imanbek Remix</td>\n",
       "      <td>2Wo6QQD1KMDWeFkkjLqwx5</td>\n",
       "      <td>0.721</td>\n",
       "      <td>0.785</td>\n",
       "      <td>8</td>\n",
       "      <td>-5.457</td>\n",
       "      <td>0.01490</td>\n",
       "      <td>0.0506</td>\n",
       "      <td>0.004320</td>\n",
       "      <td>0.2850</td>\n",
       "      <td>0.894</td>\n",
       "      <td>121.962</td>\n",
       "      <td>176219</td>\n",
       "      <td>Dance/Electronic</td>\n",
       "    </tr>\n",
       "    <tr>\n",
       "      <th>4</th>\n",
       "      <td>Dua Lipa</td>\n",
       "      <td>Future Nostalgia</td>\n",
       "      <td>Don't Start Now</td>\n",
       "      <td>3PfIrDoz19wz7qK7tYeu62</td>\n",
       "      <td>0.793</td>\n",
       "      <td>0.793</td>\n",
       "      <td>11</td>\n",
       "      <td>-4.521</td>\n",
       "      <td>0.01230</td>\n",
       "      <td>0.0830</td>\n",
       "      <td>0.000000</td>\n",
       "      <td>0.0951</td>\n",
       "      <td>0.679</td>\n",
       "      <td>123.950</td>\n",
       "      <td>183290</td>\n",
       "      <td>Nu-disco</td>\n",
       "    </tr>\n",
       "  </tbody>\n",
       "</table>\n",
       "</div>"
      ],
      "text/plain": [
       "        artist                                  album             track_name  \\\n",
       "0   The Weeknd                            After Hours        Blinding Lights   \n",
       "1  Tones And I                           Dance Monkey           Dance Monkey   \n",
       "2  Roddy Ricch  Please Excuse Me For Being Antisocial                The Box   \n",
       "3    SAINt JHN                  Roses (Imanbek Remix)  Roses - Imanbek Remix   \n",
       "4     Dua Lipa                       Future Nostalgia        Don't Start Now   \n",
       "\n",
       "                 track_id  energy  danceability  key  loudness  acousticness  \\\n",
       "0  0VjIjW4GlUZAMYd2vXMi3b   0.730         0.514    1    -5.934       0.00146   \n",
       "1  1rgnBhdG2JDFTbYkYRZAku   0.593         0.825    6    -6.401       0.68800   \n",
       "2  0nbXyq5TXYPCO7pr3N8S4I   0.586         0.896   10    -6.687       0.10400   \n",
       "3  2Wo6QQD1KMDWeFkkjLqwx5   0.721         0.785    8    -5.457       0.01490   \n",
       "4  3PfIrDoz19wz7qK7tYeu62   0.793         0.793   11    -4.521       0.01230   \n",
       "\n",
       "   speechiness  instrumentalness  liveness  valence    tempo  duration_ms  \\\n",
       "0       0.0598          0.000095    0.0897    0.334  171.005       200040   \n",
       "1       0.0988          0.000161    0.1700    0.540   98.078       209755   \n",
       "2       0.0559          0.000000    0.7900    0.642  116.971       196653   \n",
       "3       0.0506          0.004320    0.2850    0.894  121.962       176219   \n",
       "4       0.0830          0.000000    0.0951    0.679  123.950       183290   \n",
       "\n",
       "               genre  \n",
       "0           R&B/Soul  \n",
       "1  Alternative/Indie  \n",
       "2        Hip-Hop/Rap  \n",
       "3   Dance/Electronic  \n",
       "4           Nu-disco  "
      ]
     },
     "execution_count": 153,
     "metadata": {},
     "output_type": "execute_result"
    }
   ],
   "source": [
    "print(spotify.dtypes)\n",
    "spotify.head()"
   ]
  },
  {
   "cell_type": "markdown",
   "id": "2a85f088",
   "metadata": {},
   "source": [
    "#### Takeaway:\n",
    "\n",
    "##### Features: \"artist\", \"album\", \"track_name\", \"track_id\" and \"genre\" - are categorical, and the rest - numeric."
   ]
  },
  {
   "cell_type": "markdown",
   "id": "373fd590",
   "metadata": {},
   "source": [
    "## 4.4. Are there any artists that have more than 1 popular track? If yes, which and how many?"
   ]
  },
  {
   "cell_type": "markdown",
   "id": "f5545892",
   "metadata": {},
   "source": [
    "First I index out the artist column and apply .value_counts() method to count how many times each artist appears in the list.\n",
    "\n",
    "Then, with boolean mask I filter out only those, that apppear more than 1 time."
   ]
  },
  {
   "cell_type": "code",
   "execution_count": 182,
   "id": "087e923f",
   "metadata": {},
   "outputs": [
    {
     "name": "stdout",
     "output_type": "stream",
     "text": [
      "artist\n",
      "Dua Lipa         3\n",
      "Billie Eilish    3\n",
      "Travis Scott     3\n",
      "Harry Styles     2\n",
      "Lewis Capaldi    2\n",
      "Justin Bieber    2\n",
      "Post Malone      2\n",
      "Name: count, dtype: int64\n",
      "17\n"
     ]
    }
   ],
   "source": [
    "artists = spotify.iloc[:, 0].value_counts()\n",
    "top = artists[artists > 1]\n",
    "total_top = top.sum()\n",
    "print(top)\n",
    "print(total_top)"
   ]
  },
  {
   "cell_type": "markdown",
   "id": "228d7c1f",
   "metadata": {},
   "source": [
    "#### Takeaway:\n",
    "\n",
    "##### Seven artists had more than one track in the top 50. So 17 of the 50 tracks (34%) are owned by just seven names. This means top 50 list success is concentrated. Might be wise to invest in these proven artists."
   ]
  },
  {
   "cell_type": "markdown",
   "id": "a9a53afb",
   "metadata": {},
   "source": [
    "## 4.5. Who was the most popular artist?"
   ]
  },
  {
   "cell_type": "markdown",
   "id": "e305e53d",
   "metadata": {},
   "source": [
    "Same approach, but with different boolean mask."
   ]
  },
  {
   "cell_type": "code",
   "execution_count": 155,
   "id": "447ea5cc",
   "metadata": {},
   "outputs": [
    {
     "name": "stdout",
     "output_type": "stream",
     "text": [
      "artist\n",
      "Dua Lipa         3\n",
      "Billie Eilish    3\n",
      "Travis Scott     3\n",
      "Name: count, dtype: int64\n"
     ]
    }
   ],
   "source": [
    "most_popular = artists[artists == artists.max()]\n",
    "print(most_popular)\n"
   ]
  },
  {
   "cell_type": "markdown",
   "id": "2370ac53",
   "metadata": {},
   "source": [
    "#### Takeaway:\n",
    "\n",
    "##### Three artists dominate: Dua Lipa, Billie Eilish and Travis Scott. Each represents 6% of the top 50 list. These are best candidates to build promotion campaigns around."
   ]
  },
  {
   "cell_type": "markdown",
   "id": "d3585c89",
   "metadata": {},
   "source": [
    "## 4.6. How many artists in total have their songs in the top 50?"
   ]
  },
  {
   "cell_type": "markdown",
   "id": "21d5c7bd",
   "metadata": {},
   "source": [
    "I apply .unique() method, to filter only distinct artist names."
   ]
  },
  {
   "cell_type": "code",
   "execution_count": 156,
   "id": "088c6894",
   "metadata": {},
   "outputs": [
    {
     "name": "stdout",
     "output_type": "stream",
     "text": [
      "40\n"
     ]
    }
   ],
   "source": [
    "total = spotify.iloc[:, 0].unique()\n",
    "print(len(total))"
   ]
  },
  {
   "cell_type": "markdown",
   "id": "254174fb",
   "metadata": {},
   "source": [
    "#### Takeaway:\n",
    "\n",
    "##### 40 different artist out of 50 tracks. Even though success is concentrated (34% belongs to 7 names), but still the majority of the artists got only one track. This may suggest that there is a room for fresh talent to get in."
   ]
  },
  {
   "cell_type": "markdown",
   "id": "ec858902",
   "metadata": {},
   "source": [
    "## 4.7 Are there any albums that have more than 1 popular track? If yes, which and how many?"
   ]
  },
  {
   "cell_type": "markdown",
   "id": "f8774194",
   "metadata": {},
   "source": [
    "I apply value_count() method to check how many times each album appears in the list.\n",
    "\n",
    "Then I apply boolean mask to filter out all albums, that appear more than once."
   ]
  },
  {
   "cell_type": "code",
   "execution_count": 183,
   "id": "1e2432c2",
   "metadata": {},
   "outputs": [
    {
     "name": "stdout",
     "output_type": "stream",
     "text": [
      "album\n",
      "Future Nostalgia        3\n",
      "Hollywood's Bleeding    2\n",
      "Fine Line               2\n",
      "Changes                 2\n",
      "Name: count, dtype: int64\n"
     ]
    }
   ],
   "source": [
    "albums = spotify.iloc[:, 1].value_counts()\n",
    "top_albums = albums[albums > 1]\n",
    "print(top_albums)"
   ]
  },
  {
   "cell_type": "markdown",
   "id": "2f3e953e",
   "metadata": {},
   "source": [
    "#### Takeaway:\n",
    "\n",
    "##### 4 albums got 9 of 50 tracks (18%). Not something extraordinary to draw a conclusion from, but some campaigns can be made around these albums (and as stated before - also its artists)."
   ]
  },
  {
   "cell_type": "markdown",
   "id": "cef0d94a",
   "metadata": {},
   "source": [
    "## 4.8. How many albums in total have their songs in the top 50?"
   ]
  },
  {
   "cell_type": "markdown",
   "id": "6c9f5ec4",
   "metadata": {},
   "source": [
    "Same as with tracks, I apply .unique() to filter only distinct album names."
   ]
  },
  {
   "cell_type": "code",
   "execution_count": 158,
   "id": "769d877c",
   "metadata": {},
   "outputs": [
    {
     "name": "stdout",
     "output_type": "stream",
     "text": [
      "45\n"
     ]
    }
   ],
   "source": [
    "total_albums = spotify.iloc[:, 1].unique()\n",
    "print(len(total_albums))"
   ]
  },
  {
   "cell_type": "markdown",
   "id": "bc1987c9",
   "metadata": {},
   "source": [
    "#### Takeaway\n",
    "\n",
    "##### 45 different albums in the list. For spotify it rather makes sense to pay attention to single hits, than albums."
   ]
  },
  {
   "cell_type": "markdown",
   "id": "8840760d",
   "metadata": {},
   "source": [
    "## 4.9. Which tracks have a danceability score above 0.7?"
   ]
  },
  {
   "cell_type": "markdown",
   "id": "5262379d",
   "metadata": {},
   "source": [
    "I apply boolean mask on danceability column to filter all the rows, where score exceeds 0.7. \n",
    "\n",
    "I select track_name and danceability columns for visual purpose."
   ]
  },
  {
   "cell_type": "code",
   "execution_count": 191,
   "id": "006efaa3",
   "metadata": {},
   "outputs": [
    {
     "name": "stdout",
     "output_type": "stream",
     "text": [
      "                                       track_name  danceability\n",
      "1                                    Dance Monkey         0.825\n",
      "2                                         The Box         0.896\n",
      "3                           Roses - Imanbek Remix         0.785\n",
      "4                                 Don't Start Now         0.793\n",
      "5                    ROCKSTAR (feat. Roddy Ricch)         0.746\n",
      "7                death bed (coffee for your head)         0.726\n",
      "8                                         Falling         0.784\n",
      "10                                           Tusa         0.803\n",
      "13                                Blueberry Faygo         0.774\n",
      "14                       Intentions (feat. Quavo)         0.806\n",
      "15                                   Toosie Slide         0.830\n",
      "17                                         Say So         0.787\n",
      "18                                       Memories         0.764\n",
      "19                     Life Is Good (feat. Drake)         0.795\n",
      "20               Savage Love (Laxed - Siren Beat)         0.767\n",
      "22                                    Breaking Me         0.789\n",
      "24                            everything i wanted         0.704\n",
      "25                                       Señorita         0.759\n",
      "26                                        bad guy         0.701\n",
      "27                WAP (feat. Megan Thee Stallion)         0.935\n",
      "28                                    Sunday Best         0.878\n",
      "29                    Godzilla (feat. Juice WRLD)         0.808\n",
      "31                                 Break My Heart         0.730\n",
      "32                                       Dynamite         0.746\n",
      "33               Supalonely (feat. Gus Dapperton)         0.862\n",
      "37  Sunflower - Spider-Man: Into the Spider-Verse         0.755\n",
      "38                                          Hawái         0.783\n",
      "39                                        Ride It         0.880\n",
      "40                                     goosebumps         0.841\n",
      "41                      RITMO (Bad Boys For Life)         0.723\n",
      "42                                     THE SCOTTS         0.716\n",
      "49                                     SICKO MODE         0.834\n",
      "Count: 32\n"
     ]
    }
   ],
   "source": [
    "danceability_score = spotify.loc[spotify[\"danceability\"] > 0.7, [\"track_name\", \"danceability\"]]\n",
    "print(danceability_score)\n",
    "\n",
    "print(f\"Count: {danceability_score.shape[0]}\")"
   ]
  },
  {
   "cell_type": "markdown",
   "id": "8de6880a",
   "metadata": {},
   "source": [
    "#### Takeaway:\n",
    "\n",
    "##### 32 0f 50 (64%) songs have danceability score above 0.7. We can say, that upbeat songs are really popular. As a business insight we can say that it makes sense to place songs with high danceability score in playlists dedicated for party, workout, dance playlists."
   ]
  },
  {
   "cell_type": "markdown",
   "id": "5aa55a0c",
   "metadata": {},
   "source": [
    "## 4.10 Which tracks have a danceability score below 0.4?"
   ]
  },
  {
   "cell_type": "markdown",
   "id": "c02be6fb",
   "metadata": {},
   "source": [
    "I do the same here, but with different boolean mask to filter out scores below 0.4"
   ]
  },
  {
   "cell_type": "code",
   "execution_count": null,
   "id": "e43e9ebd",
   "metadata": {},
   "outputs": [
    {
     "name": "stdout",
     "output_type": "stream",
     "text": [
      "              track_name  danceability\n",
      "44  lovely (with Khalid)         0.351\n"
     ]
    }
   ],
   "source": [
    "danceability_score = spotify.loc[spotify[\"danceability\"] < 0.4, [\"track_name\", \"danceability\"]]\n",
    "print(danceability_score)"
   ]
  },
  {
   "cell_type": "markdown",
   "id": "eddc7683",
   "metadata": {},
   "source": [
    "#### Takeaway\n",
    "\n",
    "##### Only one song (Billie Eilish - lovely) is below 0.4, which is 2% of the total. This just confirms, that if you want to make a next hit, you have better chances, when you avoid slow ballads."
   ]
  },
  {
   "cell_type": "markdown",
   "id": "8465ba7f",
   "metadata": {},
   "source": [
    "## 4.11. Which tracks have their loudness above -5?"
   ]
  },
  {
   "cell_type": "code",
   "execution_count": 192,
   "id": "0a932fc2",
   "metadata": {},
   "outputs": [
    {
     "name": "stdout",
     "output_type": "stream",
     "text": [
      "                                       track_name  loudness\n",
      "4                                 Don't Start Now    -4.521\n",
      "6                                Watermelon Sugar    -4.209\n",
      "10                                           Tusa    -3.280\n",
      "12                                        Circles    -3.497\n",
      "16                                  Before You Go    -4.858\n",
      "17                                         Say So    -4.577\n",
      "21                                      Adore You    -3.675\n",
      "23                         Mood (feat. iann dior)    -3.558\n",
      "31                                 Break My Heart    -3.434\n",
      "32                                       Dynamite    -4.410\n",
      "33               Supalonely (feat. Gus Dapperton)    -4.746\n",
      "35                Rain On Me (with Ariana Grande)    -3.764\n",
      "37  Sunflower - Spider-Man: Into the Spider-Verse    -4.368\n",
      "38                                          Hawái    -3.454\n",
      "39                                        Ride It    -4.258\n",
      "40                                     goosebumps    -3.370\n",
      "43                                        Safaera    -4.074\n",
      "48                                       Physical    -3.756\n",
      "49                                     SICKO MODE    -3.714\n",
      "Count: 19\n"
     ]
    }
   ],
   "source": [
    "loudness_score  = spotify.loc[spotify[\"loudness\"] > -5, [\"track_name\", \"loudness\"]]\n",
    "print(loudness_score)\n",
    "\n",
    "print(f\"Count: {loudness_score.shape[0]}\")"
   ]
  },
  {
   "cell_type": "markdown",
   "id": "f485a732",
   "metadata": {},
   "source": [
    "#### Takeaway\n",
    "\n",
    "##### 19 of 50 (38%) are louder than -5dB.  Though, most songs are still a bit on the quieter side, so high loudness is not necessarily required for success of the song."
   ]
  },
  {
   "cell_type": "markdown",
   "id": "2638720a",
   "metadata": {},
   "source": [
    "## 4.12. Which tracks have their loudness below -8?"
   ]
  },
  {
   "cell_type": "code",
   "execution_count": 193,
   "id": "221e369a",
   "metadata": {},
   "outputs": [
    {
     "name": "stdout",
     "output_type": "stream",
     "text": [
      "                                        track_name  loudness\n",
      "7                 death bed (coffee for your head)    -8.765\n",
      "8                                          Falling    -8.756\n",
      "15                                    Toosie Slide    -8.820\n",
      "20                Savage Love (Laxed - Siren Beat)    -8.520\n",
      "24                             everything i wanted   -14.454\n",
      "26                                         bad guy   -10.965\n",
      "36                             HIGHEST IN THE ROOM    -8.764\n",
      "44                            lovely (with Khalid)   -10.109\n",
      "47  If the World Was Ending - feat. Julia Michaels   -10.086\n",
      "Count: 9\n"
     ]
    }
   ],
   "source": [
    "loudness_score  = spotify.loc[spotify[\"loudness\"] < -8, [\"track_name\", \"loudness\"]]\n",
    "print(loudness_score)\n",
    "\n",
    "print(f\"Count: {loudness_score.shape[0]}\")"
   ]
  },
  {
   "cell_type": "markdown",
   "id": "bf06fda4",
   "metadata": {},
   "source": [
    "#### Takeaway\n",
    "\n",
    "##### 9 out of 50 (18%) sit below -8 dB score. Yes quiet songs can become hits, but I would say its more an exception than the rule. Most songs are noticeably louder."
   ]
  },
  {
   "cell_type": "markdown",
   "id": "0ba0fb2c",
   "metadata": {},
   "source": [
    "## 4.13. Which track is the longest?"
   ]
  },
  {
   "cell_type": "markdown",
   "id": "0ac73f0c",
   "metadata": {},
   "source": [
    "First I apply .idxmax() method, which returns the index of the longest track. \n",
    "\n",
    "Then I use .loc to filter out just the track name and its duration."
   ]
  },
  {
   "cell_type": "code",
   "execution_count": 198,
   "id": "0eadb31d",
   "metadata": {},
   "outputs": [
    {
     "name": "stdout",
     "output_type": "stream",
     "text": [
      "track_name     SICKO MODE\n",
      "duration_ms        312820\n",
      "Name: 49, dtype: object\n"
     ]
    }
   ],
   "source": [
    "duration = spotify.loc[spotify[\"duration_ms\"].idxmax(), [\"track_name\", \"duration_ms\"]]\n",
    "print(duration)"
   ]
  },
  {
   "cell_type": "markdown",
   "id": "865abc44",
   "metadata": {},
   "source": [
    "#### Takeaway\n",
    "\n",
    "##### Sicko Mode is the longest (more than 5 min). In the fast paced society such long songs still can make a hit."
   ]
  },
  {
   "cell_type": "markdown",
   "id": "32b0aabb",
   "metadata": {},
   "source": [
    "## 4.14 Which track is the shortest?"
   ]
  },
  {
   "cell_type": "markdown",
   "id": "f4dce930",
   "metadata": {},
   "source": [
    "Same as before, but with .idxmin() method."
   ]
  },
  {
   "cell_type": "code",
   "execution_count": 164,
   "id": "fe031d42",
   "metadata": {},
   "outputs": [
    {
     "name": "stdout",
     "output_type": "stream",
     "text": [
      "track_name     Mood (feat. iann dior)\n",
      "duration_ms                    140526\n",
      "Name: 23, dtype: object\n"
     ]
    }
   ],
   "source": [
    "duration = spotify.loc[spotify[\"duration_ms\"].idxmin(), [\"track_name\", \"duration_ms\"]]\n",
    "print(duration)"
   ]
  },
  {
   "cell_type": "markdown",
   "id": "5f3805c1",
   "metadata": {},
   "source": [
    "#### Takeaway\n",
    "\n",
    "##### Mood (feat. iann dior) is the shortes, around 2.5 min. Also, very short tracks can become hits."
   ]
  },
  {
   "cell_type": "markdown",
   "id": "c0e1d30a",
   "metadata": {},
   "source": [
    "## 4.15. Which genre is the most popular?"
   ]
  },
  {
   "cell_type": "markdown",
   "id": "39e2a212",
   "metadata": {},
   "source": [
    "First I apply .value_counts() to check how many times each genre appears in the list.\n",
    "\n",
    "Then I find the highest count with .max()."
   ]
  },
  {
   "cell_type": "code",
   "execution_count": 165,
   "id": "d46157fe",
   "metadata": {},
   "outputs": [
    {
     "name": "stdout",
     "output_type": "stream",
     "text": [
      "genre\n",
      "Pop    14\n",
      "Name: count, dtype: int64\n"
     ]
    }
   ],
   "source": [
    "genre = spotify.loc[:, \"genre\"].value_counts()\n",
    "top_genre = genre[genre == genre.max()]\n",
    "print(top_genre)\n"
   ]
  },
  {
   "cell_type": "markdown",
   "id": "7e5bfba4",
   "metadata": {},
   "source": [
    "#### Takeaway\n",
    "\n",
    "##### 14 of 50 songs are Pop genre, which is around 28%. We can say that pop style is the most reliable for reaching a bigger audiences, so it definitely should stay under Spotify focus, when creating playlists and planning campaigns."
   ]
  },
  {
   "cell_type": "markdown",
   "id": "da70b651",
   "metadata": {},
   "source": [
    "## 4.16. Which genres have just one song on the top 50?"
   ]
  },
  {
   "cell_type": "markdown",
   "id": "3e3d6695",
   "metadata": {},
   "source": [
    "Same approach as before, but with different boolean mask."
   ]
  },
  {
   "cell_type": "code",
   "execution_count": 200,
   "id": "88748e98",
   "metadata": {},
   "outputs": [
    {
     "name": "stdout",
     "output_type": "stream",
     "text": [
      "genre\n",
      "R&B/Hip-Hop alternative               1\n",
      "Nu-disco                              1\n",
      "Pop/Soft Rock                         1\n",
      "Pop rap                               1\n",
      "Hip-Hop/Trap                          1\n",
      "Dance-pop/Disco                       1\n",
      "Disco-pop                             1\n",
      "Dreampop/Hip-Hop/R&B                  1\n",
      "Alternative/reggaeton/experimental    1\n",
      "Chamber pop                           1\n",
      "Name: count, dtype: int64\n",
      "Count: 10\n"
     ]
    }
   ],
   "source": [
    "one_song_genre = genre[genre == 1]\n",
    "print(one_song_genre)\n",
    "\n",
    "print(f\"Count: {one_song_genre.sum()}\")\n"
   ]
  },
  {
   "cell_type": "markdown",
   "id": "ec0b2a8d",
   "metadata": {},
   "source": [
    "#### Takeaway\n",
    "\n",
    "##### 10 genres have only 1 song in the top 50. Yes, some niche styles can break through into the top list, but the better way to approach it would be targeted marketing and campaigns, rather than broadcasting them to the masses, as they could get lost between mainstream genres, like Pop."
   ]
  },
  {
   "cell_type": "markdown",
   "id": "3658e275",
   "metadata": {},
   "source": [
    "## 4.17. How many genres in total are represented in the top 50?"
   ]
  },
  {
   "cell_type": "markdown",
   "id": "112463f8",
   "metadata": {},
   "source": [
    "I use unique() to extract only distinct genres."
   ]
  },
  {
   "cell_type": "code",
   "execution_count": 167,
   "id": "e8bc8c19",
   "metadata": {},
   "outputs": [
    {
     "name": "stdout",
     "output_type": "stream",
     "text": [
      "16\n"
     ]
    }
   ],
   "source": [
    "unique_genres = spotify.loc[:, \"genre\"].unique()\n",
    "print(len(unique_genres))"
   ]
  },
  {
   "cell_type": "markdown",
   "id": "ec13d1ac",
   "metadata": {},
   "source": [
    "#### Takeaway\n",
    "\n",
    "##### 16 different genres in total. From before we know that 10 genres had only one song in the top 50 list. So 6 genres make the majority of the list (80%)."
   ]
  },
  {
   "cell_type": "markdown",
   "id": "507b726a",
   "metadata": {},
   "source": [
    "## 4.18. Which features are strongly positively correlated, negatively correlated, and not correlated?"
   ]
  },
  {
   "cell_type": "markdown",
   "id": "6937343a",
   "metadata": {},
   "source": [
    "First I call .corr() method, only on numeric values. \n",
    "\n",
    "This retuns me a squared matrix with indexes and column by feature names. \n",
    "\n",
    "Each value here shows how strongly two features corelate together. \n",
    "\n",
    "Values near +1 mean a strong positive relationship, near –1 a strong negative relationship, and near 0 little to no linear relationship."
   ]
  },
  {
   "cell_type": "code",
   "execution_count": 168,
   "id": "aa36e8df",
   "metadata": {},
   "outputs": [
    {
     "data": {
      "text/html": [
       "<div>\n",
       "<style scoped>\n",
       "    .dataframe tbody tr th:only-of-type {\n",
       "        vertical-align: middle;\n",
       "    }\n",
       "\n",
       "    .dataframe tbody tr th {\n",
       "        vertical-align: top;\n",
       "    }\n",
       "\n",
       "    .dataframe thead th {\n",
       "        text-align: right;\n",
       "    }\n",
       "</style>\n",
       "<table border=\"1\" class=\"dataframe\">\n",
       "  <thead>\n",
       "    <tr style=\"text-align: right;\">\n",
       "      <th></th>\n",
       "      <th>energy</th>\n",
       "      <th>danceability</th>\n",
       "      <th>key</th>\n",
       "      <th>loudness</th>\n",
       "      <th>acousticness</th>\n",
       "      <th>speechiness</th>\n",
       "      <th>instrumentalness</th>\n",
       "      <th>liveness</th>\n",
       "      <th>valence</th>\n",
       "      <th>tempo</th>\n",
       "      <th>duration_ms</th>\n",
       "    </tr>\n",
       "  </thead>\n",
       "  <tbody>\n",
       "    <tr>\n",
       "      <th>energy</th>\n",
       "      <td>1.000000</td>\n",
       "      <td>0.152552</td>\n",
       "      <td>0.062428</td>\n",
       "      <td>0.791640</td>\n",
       "      <td>-0.682479</td>\n",
       "      <td>0.074267</td>\n",
       "      <td>-0.385515</td>\n",
       "      <td>0.069487</td>\n",
       "      <td>0.393453</td>\n",
       "      <td>0.075191</td>\n",
       "      <td>0.081971</td>\n",
       "    </tr>\n",
       "    <tr>\n",
       "      <th>danceability</th>\n",
       "      <td>0.152552</td>\n",
       "      <td>1.000000</td>\n",
       "      <td>0.285036</td>\n",
       "      <td>0.167147</td>\n",
       "      <td>-0.359135</td>\n",
       "      <td>0.226148</td>\n",
       "      <td>-0.017706</td>\n",
       "      <td>-0.006648</td>\n",
       "      <td>0.479953</td>\n",
       "      <td>0.168956</td>\n",
       "      <td>-0.033763</td>\n",
       "    </tr>\n",
       "    <tr>\n",
       "      <th>key</th>\n",
       "      <td>0.062428</td>\n",
       "      <td>0.285036</td>\n",
       "      <td>1.000000</td>\n",
       "      <td>-0.009178</td>\n",
       "      <td>-0.113394</td>\n",
       "      <td>-0.094965</td>\n",
       "      <td>0.020802</td>\n",
       "      <td>0.278672</td>\n",
       "      <td>0.120007</td>\n",
       "      <td>0.080475</td>\n",
       "      <td>-0.003345</td>\n",
       "    </tr>\n",
       "    <tr>\n",
       "      <th>loudness</th>\n",
       "      <td>0.791640</td>\n",
       "      <td>0.167147</td>\n",
       "      <td>-0.009178</td>\n",
       "      <td>1.000000</td>\n",
       "      <td>-0.498695</td>\n",
       "      <td>-0.021693</td>\n",
       "      <td>-0.553735</td>\n",
       "      <td>-0.069939</td>\n",
       "      <td>0.406772</td>\n",
       "      <td>0.102097</td>\n",
       "      <td>0.064130</td>\n",
       "    </tr>\n",
       "    <tr>\n",
       "      <th>acousticness</th>\n",
       "      <td>-0.682479</td>\n",
       "      <td>-0.359135</td>\n",
       "      <td>-0.113394</td>\n",
       "      <td>-0.498695</td>\n",
       "      <td>1.000000</td>\n",
       "      <td>-0.135392</td>\n",
       "      <td>0.352184</td>\n",
       "      <td>-0.128384</td>\n",
       "      <td>-0.243192</td>\n",
       "      <td>-0.241119</td>\n",
       "      <td>-0.010988</td>\n",
       "    </tr>\n",
       "    <tr>\n",
       "      <th>speechiness</th>\n",
       "      <td>0.074267</td>\n",
       "      <td>0.226148</td>\n",
       "      <td>-0.094965</td>\n",
       "      <td>-0.021693</td>\n",
       "      <td>-0.135392</td>\n",
       "      <td>1.000000</td>\n",
       "      <td>0.028948</td>\n",
       "      <td>-0.142957</td>\n",
       "      <td>0.053867</td>\n",
       "      <td>0.215504</td>\n",
       "      <td>0.366976</td>\n",
       "    </tr>\n",
       "    <tr>\n",
       "      <th>instrumentalness</th>\n",
       "      <td>-0.385515</td>\n",
       "      <td>-0.017706</td>\n",
       "      <td>0.020802</td>\n",
       "      <td>-0.553735</td>\n",
       "      <td>0.352184</td>\n",
       "      <td>0.028948</td>\n",
       "      <td>1.000000</td>\n",
       "      <td>-0.087034</td>\n",
       "      <td>-0.203283</td>\n",
       "      <td>0.018853</td>\n",
       "      <td>0.184709</td>\n",
       "    </tr>\n",
       "    <tr>\n",
       "      <th>liveness</th>\n",
       "      <td>0.069487</td>\n",
       "      <td>-0.006648</td>\n",
       "      <td>0.278672</td>\n",
       "      <td>-0.069939</td>\n",
       "      <td>-0.128384</td>\n",
       "      <td>-0.142957</td>\n",
       "      <td>-0.087034</td>\n",
       "      <td>1.000000</td>\n",
       "      <td>-0.033366</td>\n",
       "      <td>0.025457</td>\n",
       "      <td>-0.090188</td>\n",
       "    </tr>\n",
       "    <tr>\n",
       "      <th>valence</th>\n",
       "      <td>0.393453</td>\n",
       "      <td>0.479953</td>\n",
       "      <td>0.120007</td>\n",
       "      <td>0.406772</td>\n",
       "      <td>-0.243192</td>\n",
       "      <td>0.053867</td>\n",
       "      <td>-0.203283</td>\n",
       "      <td>-0.033366</td>\n",
       "      <td>1.000000</td>\n",
       "      <td>0.045089</td>\n",
       "      <td>-0.039794</td>\n",
       "    </tr>\n",
       "    <tr>\n",
       "      <th>tempo</th>\n",
       "      <td>0.075191</td>\n",
       "      <td>0.168956</td>\n",
       "      <td>0.080475</td>\n",
       "      <td>0.102097</td>\n",
       "      <td>-0.241119</td>\n",
       "      <td>0.215504</td>\n",
       "      <td>0.018853</td>\n",
       "      <td>0.025457</td>\n",
       "      <td>0.045089</td>\n",
       "      <td>1.000000</td>\n",
       "      <td>0.130328</td>\n",
       "    </tr>\n",
       "    <tr>\n",
       "      <th>duration_ms</th>\n",
       "      <td>0.081971</td>\n",
       "      <td>-0.033763</td>\n",
       "      <td>-0.003345</td>\n",
       "      <td>0.064130</td>\n",
       "      <td>-0.010988</td>\n",
       "      <td>0.366976</td>\n",
       "      <td>0.184709</td>\n",
       "      <td>-0.090188</td>\n",
       "      <td>-0.039794</td>\n",
       "      <td>0.130328</td>\n",
       "      <td>1.000000</td>\n",
       "    </tr>\n",
       "  </tbody>\n",
       "</table>\n",
       "</div>"
      ],
      "text/plain": [
       "                    energy  danceability       key  loudness  acousticness  \\\n",
       "energy            1.000000      0.152552  0.062428  0.791640     -0.682479   \n",
       "danceability      0.152552      1.000000  0.285036  0.167147     -0.359135   \n",
       "key               0.062428      0.285036  1.000000 -0.009178     -0.113394   \n",
       "loudness          0.791640      0.167147 -0.009178  1.000000     -0.498695   \n",
       "acousticness     -0.682479     -0.359135 -0.113394 -0.498695      1.000000   \n",
       "speechiness       0.074267      0.226148 -0.094965 -0.021693     -0.135392   \n",
       "instrumentalness -0.385515     -0.017706  0.020802 -0.553735      0.352184   \n",
       "liveness          0.069487     -0.006648  0.278672 -0.069939     -0.128384   \n",
       "valence           0.393453      0.479953  0.120007  0.406772     -0.243192   \n",
       "tempo             0.075191      0.168956  0.080475  0.102097     -0.241119   \n",
       "duration_ms       0.081971     -0.033763 -0.003345  0.064130     -0.010988   \n",
       "\n",
       "                  speechiness  instrumentalness  liveness   valence     tempo  \\\n",
       "energy               0.074267         -0.385515  0.069487  0.393453  0.075191   \n",
       "danceability         0.226148         -0.017706 -0.006648  0.479953  0.168956   \n",
       "key                 -0.094965          0.020802  0.278672  0.120007  0.080475   \n",
       "loudness            -0.021693         -0.553735 -0.069939  0.406772  0.102097   \n",
       "acousticness        -0.135392          0.352184 -0.128384 -0.243192 -0.241119   \n",
       "speechiness          1.000000          0.028948 -0.142957  0.053867  0.215504   \n",
       "instrumentalness     0.028948          1.000000 -0.087034 -0.203283  0.018853   \n",
       "liveness            -0.142957         -0.087034  1.000000 -0.033366  0.025457   \n",
       "valence              0.053867         -0.203283 -0.033366  1.000000  0.045089   \n",
       "tempo                0.215504          0.018853  0.025457  0.045089  1.000000   \n",
       "duration_ms          0.366976          0.184709 -0.090188 -0.039794  0.130328   \n",
       "\n",
       "                  duration_ms  \n",
       "energy               0.081971  \n",
       "danceability        -0.033763  \n",
       "key                 -0.003345  \n",
       "loudness             0.064130  \n",
       "acousticness        -0.010988  \n",
       "speechiness          0.366976  \n",
       "instrumentalness     0.184709  \n",
       "liveness            -0.090188  \n",
       "valence             -0.039794  \n",
       "tempo                0.130328  \n",
       "duration_ms          1.000000  "
      ]
     },
     "execution_count": 168,
     "metadata": {},
     "output_type": "execute_result"
    }
   ],
   "source": [
    "spotify.corr(numeric_only=True)"
   ]
  },
  {
   "cell_type": "markdown",
   "id": "3479bd72",
   "metadata": {},
   "source": [
    "Then I transform the 2D matrix into dataframe of feature pairs and their correlation values. \n",
    "\n",
    "It lets me sort the correlation pairs at scale, so I dont have to manually compare each feature pair.\n",
    "\n",
    ".stack() method transforms data into 1D matrix with multiindexed labeles. \n",
    "\n",
    "Then i give names to those labes with .rename_axis(). \n",
    "\n",
    "And eventually I use reset_index(name=\"r\") (\"r\" for Pearson correlation coefficient) to turn multiindexed lables into actual columns and place the correlation values into a new column \"r\"."
   ]
  },
  {
   "cell_type": "code",
   "execution_count": 169,
   "id": "64603592",
   "metadata": {},
   "outputs": [
    {
     "name": "stdout",
     "output_type": "stream",
     "text": [
      "       feature_1         feature_2         r\n",
      "0         energy            energy  1.000000\n",
      "1         energy      danceability  0.152552\n",
      "2         energy               key  0.062428\n",
      "3         energy          loudness  0.791640\n",
      "4         energy      acousticness -0.682479\n",
      "..           ...               ...       ...\n",
      "116  duration_ms  instrumentalness  0.184709\n",
      "117  duration_ms          liveness -0.090188\n",
      "118  duration_ms           valence -0.039794\n",
      "119  duration_ms             tempo  0.130328\n",
      "120  duration_ms       duration_ms  1.000000\n",
      "\n",
      "[121 rows x 3 columns]\n"
     ]
    }
   ],
   "source": [
    "corr = spotify.corr(numeric_only=True)\n",
    "pairs = corr.stack().rename_axis([\"feature_1\", \"feature_2\"]).reset_index(name=\"r\")\n",
    "print(pairs)"
   ]
  },
  {
   "cell_type": "markdown",
   "id": "206102bc",
   "metadata": {},
   "source": [
    "Since initial 2D matrix is squared, so I need to drop similar values, like A-A, and then choose higher or lower triangle of data to work on: A-B, or B-A."
   ]
  },
  {
   "cell_type": "code",
   "execution_count": 170,
   "id": "45be1328",
   "metadata": {},
   "outputs": [
    {
     "name": "stdout",
     "output_type": "stream",
     "text": [
      "            feature_1         feature_2         r\n",
      "2              energy               key  0.062428\n",
      "3              energy          loudness  0.791640\n",
      "5              energy       speechiness  0.074267\n",
      "6              energy  instrumentalness -0.385515\n",
      "7              energy          liveness  0.069487\n",
      "8              energy           valence  0.393453\n",
      "9              energy             tempo  0.075191\n",
      "11       danceability            energy  0.152552\n",
      "13       danceability               key  0.285036\n",
      "14       danceability          loudness  0.167147\n",
      "16       danceability       speechiness  0.226148\n",
      "17       danceability  instrumentalness -0.017706\n",
      "18       danceability          liveness -0.006648\n",
      "19       danceability           valence  0.479953\n",
      "20       danceability             tempo  0.168956\n",
      "21       danceability       duration_ms -0.033763\n",
      "25                key          loudness -0.009178\n",
      "27                key       speechiness -0.094965\n",
      "29                key          liveness  0.278672\n",
      "30                key           valence  0.120007\n",
      "31                key             tempo  0.080475\n",
      "38           loudness       speechiness -0.021693\n",
      "41           loudness           valence  0.406772\n",
      "42           loudness             tempo  0.102097\n",
      "44       acousticness            energy -0.682479\n",
      "45       acousticness      danceability -0.359135\n",
      "46       acousticness               key -0.113394\n",
      "47       acousticness          loudness -0.498695\n",
      "49       acousticness       speechiness -0.135392\n",
      "50       acousticness  instrumentalness  0.352184\n",
      "51       acousticness          liveness -0.128384\n",
      "52       acousticness           valence -0.243192\n",
      "53       acousticness             tempo -0.241119\n",
      "54       acousticness       duration_ms -0.010988\n",
      "63        speechiness           valence  0.053867\n",
      "64        speechiness             tempo  0.215504\n",
      "68   instrumentalness               key  0.020802\n",
      "69   instrumentalness          loudness -0.553735\n",
      "71   instrumentalness       speechiness  0.028948\n",
      "73   instrumentalness          liveness -0.087034\n",
      "74   instrumentalness           valence -0.203283\n",
      "75   instrumentalness             tempo  0.018853\n",
      "80           liveness          loudness -0.069939\n",
      "82           liveness       speechiness -0.142957\n",
      "85           liveness           valence -0.033366\n",
      "86           liveness             tempo  0.025457\n",
      "107             tempo           valence  0.045089\n",
      "110       duration_ms            energy  0.081971\n",
      "112       duration_ms               key -0.003345\n",
      "113       duration_ms          loudness  0.064130\n",
      "115       duration_ms       speechiness  0.366976\n",
      "116       duration_ms  instrumentalness  0.184709\n",
      "117       duration_ms          liveness -0.090188\n",
      "118       duration_ms           valence -0.039794\n",
      "119       duration_ms             tempo  0.130328\n"
     ]
    }
   ],
   "source": [
    "pairs = pairs[pairs['feature_1'] != pairs['feature_2']]\n",
    "pairs = pairs[pairs['feature_1'] < pairs['feature_2']]\n",
    "print(pairs)"
   ]
  },
  {
   "cell_type": "markdown",
   "id": "44612ffa",
   "metadata": {},
   "source": [
    "After data is prepared, I use boolean masks to find the correlation.\n",
    "\n",
    "Rule of thumb: more than 0.7 of absolute value is strong positive or negative and below absolute 0.3 is either weark or none."
   ]
  },
  {
   "cell_type": "code",
   "execution_count": 205,
   "id": "680a49be",
   "metadata": {},
   "outputs": [],
   "source": [
    "strong_positive = pairs[pairs[\"r\"] > 0.7]\n",
    "strong_negative = pairs[pairs[\"r\"] < -0.6]\n",
    "no_corr = pairs[(pairs[\"r\"] > -0.3) & (pairs[\"r\"] < 0.3)]"
   ]
  },
  {
   "cell_type": "markdown",
   "id": "79c13eb5",
   "metadata": {},
   "source": [
    "##### Strong positive:"
   ]
  },
  {
   "cell_type": "code",
   "execution_count": 172,
   "id": "6696d2ab",
   "metadata": {},
   "outputs": [
    {
     "name": "stdout",
     "output_type": "stream",
     "text": [
      "  feature_1 feature_2        r\n",
      "3    energy  loudness  0.79164\n"
     ]
    }
   ],
   "source": [
    "print(strong_positive)"
   ]
  },
  {
   "cell_type": "markdown",
   "id": "2cc2fe8c",
   "metadata": {},
   "source": [
    "#### Takeaway\n",
    "\n",
    "##### Energy and loudness (r = 0.79). Louder songs are also higher in energy. We can draw a conclusion, that it makes sense for tracks, that meant to be energetic, to increase their overall loudness up."
   ]
  },
  {
   "cell_type": "markdown",
   "id": "739dd0a2",
   "metadata": {},
   "source": [
    "##### Strong negative:"
   ]
  },
  {
   "cell_type": "code",
   "execution_count": 206,
   "id": "f8d4a54e",
   "metadata": {},
   "outputs": [
    {
     "name": "stdout",
     "output_type": "stream",
     "text": [
      "       feature_1 feature_2         r\n",
      "44  acousticness    energy -0.682479\n"
     ]
    }
   ],
   "source": [
    "print(strong_negative)"
   ]
  },
  {
   "cell_type": "markdown",
   "id": "6830fcbd",
   "metadata": {},
   "source": [
    "#### Takeaway\n",
    "\n",
    "##### There are no strong negative correlations below coefficient -0.7. Though, if I increase the threshold to, say, -0.6, we have one result: acousticness and energy, which tell us, that the more song is acoustic (instrumental, no digital production), the lower it scores on energy. This information can be useful when creating playlists - for party and workout mixes its better to look for tracks with lower acousticness, and for chill playlists - with higher."
   ]
  },
  {
   "cell_type": "markdown",
   "id": "fac51f01",
   "metadata": {},
   "source": [
    "##### No or weak correlation:"
   ]
  },
  {
   "cell_type": "code",
   "execution_count": 207,
   "id": "9e3ba60d",
   "metadata": {},
   "outputs": [
    {
     "name": "stdout",
     "output_type": "stream",
     "text": [
      "            feature_1         feature_2         r\n",
      "2              energy               key  0.062428\n",
      "5              energy       speechiness  0.074267\n",
      "7              energy          liveness  0.069487\n",
      "9              energy             tempo  0.075191\n",
      "11       danceability            energy  0.152552\n",
      "13       danceability               key  0.285036\n",
      "14       danceability          loudness  0.167147\n",
      "16       danceability       speechiness  0.226148\n",
      "17       danceability  instrumentalness -0.017706\n",
      "18       danceability          liveness -0.006648\n",
      "20       danceability             tempo  0.168956\n",
      "21       danceability       duration_ms -0.033763\n",
      "25                key          loudness -0.009178\n",
      "27                key       speechiness -0.094965\n",
      "29                key          liveness  0.278672\n",
      "30                key           valence  0.120007\n",
      "31                key             tempo  0.080475\n",
      "38           loudness       speechiness -0.021693\n",
      "42           loudness             tempo  0.102097\n",
      "46       acousticness               key -0.113394\n",
      "49       acousticness       speechiness -0.135392\n",
      "51       acousticness          liveness -0.128384\n",
      "52       acousticness           valence -0.243192\n",
      "53       acousticness             tempo -0.241119\n",
      "54       acousticness       duration_ms -0.010988\n",
      "63        speechiness           valence  0.053867\n",
      "64        speechiness             tempo  0.215504\n",
      "68   instrumentalness               key  0.020802\n",
      "71   instrumentalness       speechiness  0.028948\n",
      "73   instrumentalness          liveness -0.087034\n",
      "74   instrumentalness           valence -0.203283\n",
      "75   instrumentalness             tempo  0.018853\n",
      "80           liveness          loudness -0.069939\n",
      "82           liveness       speechiness -0.142957\n",
      "85           liveness           valence -0.033366\n",
      "86           liveness             tempo  0.025457\n",
      "107             tempo           valence  0.045089\n",
      "110       duration_ms            energy  0.081971\n",
      "112       duration_ms               key -0.003345\n",
      "113       duration_ms          loudness  0.064130\n",
      "116       duration_ms  instrumentalness  0.184709\n",
      "117       duration_ms          liveness -0.090188\n",
      "118       duration_ms           valence -0.039794\n",
      "119       duration_ms             tempo  0.130328\n"
     ]
    }
   ],
   "source": [
    "print(no_corr)"
   ]
  },
  {
   "cell_type": "markdown",
   "id": "87c3241d",
   "metadata": {},
   "source": [
    "#### Takeaway\n",
    "\n",
    "##### A lot of pairs of features that are not correlated. This can tell us, that many of these audio attributes can be adjusted independently, without negatively affecting one another. This gives producers more ways to create unique songs."
   ]
  },
  {
   "cell_type": "markdown",
   "id": "cd0e3ad2",
   "metadata": {},
   "source": [
    "# 5. How does the danceability score compare between Pop, Hip-Hop/Rap, Dance/Electronic, and Alternative/Indie genres?"
   ]
  },
  {
   "cell_type": "markdown",
   "id": "f97e3cf7",
   "metadata": {},
   "source": [
    "By using .isin() I filter the subset of data to include only rows for mentioned genres.\n",
    "\n",
    "Then I call .describe() on danceability column to get a statistics summary."
   ]
  },
  {
   "cell_type": "code",
   "execution_count": 175,
   "id": "70c15f32",
   "metadata": {},
   "outputs": [
    {
     "data": {
      "text/html": [
       "<div>\n",
       "<style scoped>\n",
       "    .dataframe tbody tr th:only-of-type {\n",
       "        vertical-align: middle;\n",
       "    }\n",
       "\n",
       "    .dataframe tbody tr th {\n",
       "        vertical-align: top;\n",
       "    }\n",
       "\n",
       "    .dataframe thead th {\n",
       "        text-align: right;\n",
       "    }\n",
       "</style>\n",
       "<table border=\"1\" class=\"dataframe\">\n",
       "  <thead>\n",
       "    <tr style=\"text-align: right;\">\n",
       "      <th></th>\n",
       "      <th>count</th>\n",
       "      <th>mean</th>\n",
       "      <th>std</th>\n",
       "      <th>min</th>\n",
       "      <th>25%</th>\n",
       "      <th>50%</th>\n",
       "      <th>75%</th>\n",
       "      <th>max</th>\n",
       "    </tr>\n",
       "    <tr>\n",
       "      <th>genre</th>\n",
       "      <th></th>\n",
       "      <th></th>\n",
       "      <th></th>\n",
       "      <th></th>\n",
       "      <th></th>\n",
       "      <th></th>\n",
       "      <th></th>\n",
       "      <th></th>\n",
       "    </tr>\n",
       "  </thead>\n",
       "  <tbody>\n",
       "    <tr>\n",
       "      <th>Alternative/Indie</th>\n",
       "      <td>4.0</td>\n",
       "      <td>0.661750</td>\n",
       "      <td>0.211107</td>\n",
       "      <td>0.459</td>\n",
       "      <td>0.49050</td>\n",
       "      <td>0.663</td>\n",
       "      <td>0.83425</td>\n",
       "      <td>0.862</td>\n",
       "    </tr>\n",
       "    <tr>\n",
       "      <th>Dance/Electronic</th>\n",
       "      <td>5.0</td>\n",
       "      <td>0.755000</td>\n",
       "      <td>0.094744</td>\n",
       "      <td>0.647</td>\n",
       "      <td>0.67400</td>\n",
       "      <td>0.785</td>\n",
       "      <td>0.78900</td>\n",
       "      <td>0.880</td>\n",
       "    </tr>\n",
       "    <tr>\n",
       "      <th>Hip-Hop/Rap</th>\n",
       "      <td>13.0</td>\n",
       "      <td>0.765538</td>\n",
       "      <td>0.085470</td>\n",
       "      <td>0.598</td>\n",
       "      <td>0.72600</td>\n",
       "      <td>0.774</td>\n",
       "      <td>0.83000</td>\n",
       "      <td>0.896</td>\n",
       "    </tr>\n",
       "    <tr>\n",
       "      <th>Pop</th>\n",
       "      <td>14.0</td>\n",
       "      <td>0.677571</td>\n",
       "      <td>0.109853</td>\n",
       "      <td>0.464</td>\n",
       "      <td>0.61575</td>\n",
       "      <td>0.690</td>\n",
       "      <td>0.76275</td>\n",
       "      <td>0.806</td>\n",
       "    </tr>\n",
       "  </tbody>\n",
       "</table>\n",
       "</div>"
      ],
      "text/plain": [
       "                   count      mean       std    min      25%    50%      75%  \\\n",
       "genre                                                                          \n",
       "Alternative/Indie    4.0  0.661750  0.211107  0.459  0.49050  0.663  0.83425   \n",
       "Dance/Electronic     5.0  0.755000  0.094744  0.647  0.67400  0.785  0.78900   \n",
       "Hip-Hop/Rap         13.0  0.765538  0.085470  0.598  0.72600  0.774  0.83000   \n",
       "Pop                 14.0  0.677571  0.109853  0.464  0.61575  0.690  0.76275   \n",
       "\n",
       "                     max  \n",
       "genre                     \n",
       "Alternative/Indie  0.862  \n",
       "Dance/Electronic   0.880  \n",
       "Hip-Hop/Rap        0.896  \n",
       "Pop                0.806  "
      ]
     },
     "execution_count": 175,
     "metadata": {},
     "output_type": "execute_result"
    }
   ],
   "source": [
    "genres = [\"Pop\", \"Hip-Hop/Rap\", \"Dance/Electronic\", \"Alternative/Indie\"]\n",
    "subset = spotify[spotify[\"genre\"].isin(genres)]\n",
    "danceability_comp = subset.groupby(\"genre\")[\"danceability\"].describe()\n",
    "danceability_comp"
   ]
  },
  {
   "cell_type": "markdown",
   "id": "b8e106a8",
   "metadata": {},
   "source": [
    "#### Takeaway\n",
    "\n",
    "Hip-Hop/Rap (13 tracks): is at the top with an average danceability of 0.77.\n",
    "\n",
    "Dance/Electronic - only 5 data points (tracks). Mean is also near the top: 0.76.\n",
    "\n",
    "We can conclude, that hip-hop/rap and dance/electronic - are really good genres to fill party, workout and dance playlists with.\n",
    "\n",
    "Pop (14 tracks): averages around 0.68, with range from about 0.46 to 0.81. Pop songs are hit-or-miss on danceability scale.\n",
    "\n",
    "Alternative/Indie - only 4 data points. Has the lowest average at 0.66, with the widest spread—from about 0.46 all the way up to 0.86. That tells us this genre is the most unpredictable."
   ]
  },
  {
   "cell_type": "markdown",
   "id": "d7db5b23",
   "metadata": {},
   "source": [
    "# 6. How does the loudness score compare between Pop, Hip-Hop/Rap, Dance/Electronic, and Alternative/Indie genres?"
   ]
  },
  {
   "cell_type": "code",
   "execution_count": 176,
   "id": "24845183",
   "metadata": {},
   "outputs": [
    {
     "data": {
      "text/html": [
       "<div>\n",
       "<style scoped>\n",
       "    .dataframe tbody tr th:only-of-type {\n",
       "        vertical-align: middle;\n",
       "    }\n",
       "\n",
       "    .dataframe tbody tr th {\n",
       "        vertical-align: top;\n",
       "    }\n",
       "\n",
       "    .dataframe thead th {\n",
       "        text-align: right;\n",
       "    }\n",
       "</style>\n",
       "<table border=\"1\" class=\"dataframe\">\n",
       "  <thead>\n",
       "    <tr style=\"text-align: right;\">\n",
       "      <th></th>\n",
       "      <th>count</th>\n",
       "      <th>mean</th>\n",
       "      <th>std</th>\n",
       "      <th>min</th>\n",
       "      <th>25%</th>\n",
       "      <th>50%</th>\n",
       "      <th>75%</th>\n",
       "      <th>max</th>\n",
       "    </tr>\n",
       "    <tr>\n",
       "      <th>genre</th>\n",
       "      <th></th>\n",
       "      <th></th>\n",
       "      <th></th>\n",
       "      <th></th>\n",
       "      <th></th>\n",
       "      <th></th>\n",
       "      <th></th>\n",
       "      <th></th>\n",
       "    </tr>\n",
       "  </thead>\n",
       "  <tbody>\n",
       "    <tr>\n",
       "      <th>Alternative/Indie</th>\n",
       "      <td>4.0</td>\n",
       "      <td>-5.421000</td>\n",
       "      <td>0.774502</td>\n",
       "      <td>-6.401</td>\n",
       "      <td>-5.85950</td>\n",
       "      <td>-5.2685</td>\n",
       "      <td>-4.83000</td>\n",
       "      <td>-4.746</td>\n",
       "    </tr>\n",
       "    <tr>\n",
       "      <th>Dance/Electronic</th>\n",
       "      <td>5.0</td>\n",
       "      <td>-5.338000</td>\n",
       "      <td>1.479047</td>\n",
       "      <td>-7.567</td>\n",
       "      <td>-5.65200</td>\n",
       "      <td>-5.4570</td>\n",
       "      <td>-4.25800</td>\n",
       "      <td>-3.756</td>\n",
       "    </tr>\n",
       "    <tr>\n",
       "      <th>Hip-Hop/Rap</th>\n",
       "      <td>13.0</td>\n",
       "      <td>-6.917846</td>\n",
       "      <td>1.891808</td>\n",
       "      <td>-8.820</td>\n",
       "      <td>-8.52000</td>\n",
       "      <td>-7.6480</td>\n",
       "      <td>-5.61600</td>\n",
       "      <td>-3.370</td>\n",
       "    </tr>\n",
       "    <tr>\n",
       "      <th>Pop</th>\n",
       "      <td>14.0</td>\n",
       "      <td>-6.460357</td>\n",
       "      <td>3.014281</td>\n",
       "      <td>-14.454</td>\n",
       "      <td>-7.17875</td>\n",
       "      <td>-6.6445</td>\n",
       "      <td>-3.87525</td>\n",
       "      <td>-3.280</td>\n",
       "    </tr>\n",
       "  </tbody>\n",
       "</table>\n",
       "</div>"
      ],
      "text/plain": [
       "                   count      mean       std     min      25%     50%  \\\n",
       "genre                                                                   \n",
       "Alternative/Indie    4.0 -5.421000  0.774502  -6.401 -5.85950 -5.2685   \n",
       "Dance/Electronic     5.0 -5.338000  1.479047  -7.567 -5.65200 -5.4570   \n",
       "Hip-Hop/Rap         13.0 -6.917846  1.891808  -8.820 -8.52000 -7.6480   \n",
       "Pop                 14.0 -6.460357  3.014281 -14.454 -7.17875 -6.6445   \n",
       "\n",
       "                       75%    max  \n",
       "genre                              \n",
       "Alternative/Indie -4.83000 -4.746  \n",
       "Dance/Electronic  -4.25800 -3.756  \n",
       "Hip-Hop/Rap       -5.61600 -3.370  \n",
       "Pop               -3.87525 -3.280  "
      ]
     },
     "execution_count": 176,
     "metadata": {},
     "output_type": "execute_result"
    }
   ],
   "source": [
    "loudness_comp = subset.groupby(\"genre\")[\"loudness\"].describe()\n",
    "loudness_comp"
   ]
  },
  {
   "cell_type": "markdown",
   "id": "c6534a02",
   "metadata": {},
   "source": [
    "#### Takeaway\n",
    "\n",
    "Dance/Electronic and Alternative/Indie are the loudest on average, with mean levels around –5.34 and –5.42. \n",
    "\n",
    "These can go straight into the high energy playlists.\n",
    "\n",
    "Pop tracks are a bit quieter on average at around –6.46, but they show the biggest variation: from a very quiet outlier at –14.45 up to –3.28. \n",
    "\n",
    "So some pop tracks are soft while others match the electronic and indie genres.\n",
    "\n",
    "Hip-Hop/Rap has the lowest loudness on avarage at about –6.92. \n",
    "\n",
    "It is the quietest genre on the list on average, though still with a few louder outliers. \n",
    "\n",
    "When including these into a mixed playlists, probably its wise to have some transition between hip-hop/rap genre and loud one, like dance/electronic."
   ]
  },
  {
   "cell_type": "markdown",
   "id": "4e78c00e",
   "metadata": {},
   "source": [
    "# 7. How does the acousticness score compare between Pop, Hip-Hop/Rap, Dance/Electronic, and Alternative/Indie genres?"
   ]
  },
  {
   "cell_type": "code",
   "execution_count": 177,
   "id": "b14dce59",
   "metadata": {},
   "outputs": [
    {
     "data": {
      "text/html": [
       "<div>\n",
       "<style scoped>\n",
       "    .dataframe tbody tr th:only-of-type {\n",
       "        vertical-align: middle;\n",
       "    }\n",
       "\n",
       "    .dataframe tbody tr th {\n",
       "        vertical-align: top;\n",
       "    }\n",
       "\n",
       "    .dataframe thead th {\n",
       "        text-align: right;\n",
       "    }\n",
       "</style>\n",
       "<table border=\"1\" class=\"dataframe\">\n",
       "  <thead>\n",
       "    <tr style=\"text-align: right;\">\n",
       "      <th></th>\n",
       "      <th>count</th>\n",
       "      <th>mean</th>\n",
       "      <th>std</th>\n",
       "      <th>min</th>\n",
       "      <th>25%</th>\n",
       "      <th>50%</th>\n",
       "      <th>75%</th>\n",
       "      <th>max</th>\n",
       "    </tr>\n",
       "    <tr>\n",
       "      <th>genre</th>\n",
       "      <th></th>\n",
       "      <th></th>\n",
       "      <th></th>\n",
       "      <th></th>\n",
       "      <th></th>\n",
       "      <th></th>\n",
       "      <th></th>\n",
       "      <th></th>\n",
       "    </tr>\n",
       "  </thead>\n",
       "  <tbody>\n",
       "    <tr>\n",
       "      <th>Alternative/Indie</th>\n",
       "      <td>4.0</td>\n",
       "      <td>0.583500</td>\n",
       "      <td>0.204086</td>\n",
       "      <td>0.29100</td>\n",
       "      <td>0.52575</td>\n",
       "      <td>0.6460</td>\n",
       "      <td>0.70375</td>\n",
       "      <td>0.751</td>\n",
       "    </tr>\n",
       "    <tr>\n",
       "      <th>Dance/Electronic</th>\n",
       "      <td>5.0</td>\n",
       "      <td>0.099440</td>\n",
       "      <td>0.095828</td>\n",
       "      <td>0.01370</td>\n",
       "      <td>0.01490</td>\n",
       "      <td>0.0686</td>\n",
       "      <td>0.17700</td>\n",
       "      <td>0.223</td>\n",
       "    </tr>\n",
       "    <tr>\n",
       "      <th>Hip-Hop/Rap</th>\n",
       "      <td>13.0</td>\n",
       "      <td>0.188741</td>\n",
       "      <td>0.186396</td>\n",
       "      <td>0.00513</td>\n",
       "      <td>0.06700</td>\n",
       "      <td>0.1450</td>\n",
       "      <td>0.23400</td>\n",
       "      <td>0.731</td>\n",
       "    </tr>\n",
       "    <tr>\n",
       "      <th>Pop</th>\n",
       "      <td>14.0</td>\n",
       "      <td>0.323843</td>\n",
       "      <td>0.318142</td>\n",
       "      <td>0.02100</td>\n",
       "      <td>0.05990</td>\n",
       "      <td>0.2590</td>\n",
       "      <td>0.34800</td>\n",
       "      <td>0.902</td>\n",
       "    </tr>\n",
       "  </tbody>\n",
       "</table>\n",
       "</div>"
      ],
      "text/plain": [
       "                   count      mean       std      min      25%     50%  \\\n",
       "genre                                                                    \n",
       "Alternative/Indie    4.0  0.583500  0.204086  0.29100  0.52575  0.6460   \n",
       "Dance/Electronic     5.0  0.099440  0.095828  0.01370  0.01490  0.0686   \n",
       "Hip-Hop/Rap         13.0  0.188741  0.186396  0.00513  0.06700  0.1450   \n",
       "Pop                 14.0  0.323843  0.318142  0.02100  0.05990  0.2590   \n",
       "\n",
       "                       75%    max  \n",
       "genre                              \n",
       "Alternative/Indie  0.70375  0.751  \n",
       "Dance/Electronic   0.17700  0.223  \n",
       "Hip-Hop/Rap        0.23400  0.731  \n",
       "Pop                0.34800  0.902  "
      ]
     },
     "execution_count": 177,
     "metadata": {},
     "output_type": "execute_result"
    }
   ],
   "source": [
    "acousticness_comp = subset.groupby(\"genre\")[\"acousticness\"].describe()\n",
    "acousticness_comp"
   ]
  },
  {
   "cell_type": "markdown",
   "id": "4a8fa3b8",
   "metadata": {},
   "source": [
    "#### Takeaway\n",
    "\n",
    "Alternative/Indie is the most acoustic on average, with a mean of 0.58. \n",
    "\n",
    "These are perfect for chill and acoustic playlists.\n",
    "\n",
    "Pop average acousticness is at around 0.32. \n",
    "\n",
    "It is the most variable: some tracks are very accoustic with score up to 0.90, while others are almost entirely produced (0.02).\n",
    "\n",
    "Hip-Hop/Rap averages around 0.19 and has a wide range: from nearly zero acoustic content on some tracks to about 0.73 on the outlier.\n",
    "\n",
    "Most rap tracks on the list are heavily produced, but there is at least one with a strong acoustic element.\n",
    "\n",
    "Dance/Electronic is the least acoustic, with a mean of 0.10 and ranging only from about 0.01 to 0.22 - ideal when you want digital flavor."
   ]
  },
  {
   "cell_type": "markdown",
   "id": "e6cc61c3",
   "metadata": {},
   "source": [
    "# Conclusion"
   ]
  },
  {
   "cell_type": "markdown",
   "id": "ebbf60d8",
   "metadata": {},
   "source": [
    "Bottom line: 2020’s Top-50 hits share a clear trend.\n",
    "\n",
    "Most are very danceable (64% score > 0.70) and mixed loud (nearly 40% above –5dB), with energy rising as loudness goes up.\n",
    "\n",
    "Seven artists and four albums account for a third of the list, yet 40 different artists and 16 genres still appear, showing room for both big names and fresh sounds.\n",
    "\n",
    "Hip-Hop/Rap and Dance/Electronic lead on danceability, Alternative/Indie produces the most acoustic tracks, and Pop is in the middle of everything, but with wide variety.\n",
    "\n",
    "Niche genres break through only one track at a time, so they need targeted rather than mass promotion.\n",
    "\n",
    "So, the takeaway for Spotify is clear: keep the best-known artists in the spotlight, fill party and workout playlists with the most danceable, loud tracks, and rely on genre specific playlists to bring quieter or more acoustic songs to the right listeners.\n"
   ]
  }
 ],
 "metadata": {
  "kernelspec": {
   "display_name": "pydata-book",
   "language": "python",
   "name": "python3"
  },
  "language_info": {
   "codemirror_mode": {
    "name": "ipython",
    "version": 3
   },
   "file_extension": ".py",
   "mimetype": "text/x-python",
   "name": "python",
   "nbconvert_exporter": "python",
   "pygments_lexer": "ipython3",
   "version": "3.10.17"
  }
 },
 "nbformat": 4,
 "nbformat_minor": 5
}
