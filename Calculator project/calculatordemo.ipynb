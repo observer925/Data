{
 "cells": [
  {
   "cell_type": "code",
   "execution_count": 1,
   "id": "9d2a9e12",
   "metadata": {},
   "outputs": [
    {
     "name": "stdout",
     "output_type": "stream",
     "text": [
      "Calculator instance:\n",
      "Current result: 0\n"
     ]
    }
   ],
   "source": [
    "from calculator import Calculator\n",
    "\n",
    "obj = Calculator()\n",
    "print(\"Calculator instance:\")\n",
    "print(obj)"
   ]
  },
  {
   "cell_type": "code",
   "execution_count": 2,
   "id": "65b514a3",
   "metadata": {},
   "outputs": [
    {
     "name": "stdout",
     "output_type": "stream",
     "text": [
      "After adding 10:\n",
      "Current result: 10\n"
     ]
    }
   ],
   "source": [
    "obj.check_operator(\"+\")\n",
    "obj.perform_operation(10)\n",
    "print(\"After adding 10:\")\n",
    "print(obj)"
   ]
  },
  {
   "cell_type": "code",
   "execution_count": 3,
   "id": "7454e129",
   "metadata": {},
   "outputs": [
    {
     "name": "stdout",
     "output_type": "stream",
     "text": [
      "After subtracting 3:\n",
      "Current result: 7\n"
     ]
    }
   ],
   "source": [
    "obj.check_operator(\"-\")\n",
    "obj.perform_operation(3)\n",
    "print(\"After subtracting 3:\")\n",
    "print(obj)"
   ]
  },
  {
   "cell_type": "code",
   "execution_count": 4,
   "id": "ee2d509a",
   "metadata": {},
   "outputs": [
    {
     "name": "stdout",
     "output_type": "stream",
     "text": [
      "After multiplying by 4:\n",
      "Current result: 28\n"
     ]
    }
   ],
   "source": [
    "obj.check_operator(\"*\")\n",
    "obj.perform_operation(4)\n",
    "print(\"After multiplying by 4:\")\n",
    "print(obj)"
   ]
  },
  {
   "cell_type": "code",
   "execution_count": 5,
   "id": "4327d24c",
   "metadata": {},
   "outputs": [
    {
     "name": "stdout",
     "output_type": "stream",
     "text": [
      "After dividing by 2:\n",
      "Current result: 14\n"
     ]
    }
   ],
   "source": [
    "obj.check_operator(\"/\")\n",
    "obj.perform_operation(2)\n",
    "print(\"After dividing by 2:\")\n",
    "print(obj)"
   ]
  },
  {
   "cell_type": "code",
   "execution_count": 6,
   "id": "1b58a38b",
   "metadata": {},
   "outputs": [
    {
     "name": "stdout",
     "output_type": "stream",
     "text": [
      "After taking the 2nd root:\n",
      "Current result: 3.74\n"
     ]
    }
   ],
   "source": [
    "obj.check_operator(\"root\")\n",
    "obj.perform_operation(2)\n",
    "print(\"After taking the 2nd root:\")\n",
    "print(obj)\n"
   ]
  },
  {
   "cell_type": "code",
   "execution_count": 7,
   "id": "ed64ab3a",
   "metadata": {},
   "outputs": [
    {
     "name": "stdout",
     "output_type": "stream",
     "text": [
      "After reset:\n",
      "Current result: 0\n"
     ]
    }
   ],
   "source": [
    "obj.check_operator(\"reset\")\n",
    "obj.perform_operation()\n",
    "print(\"After reset:\")\n",
    "print(obj)"
   ]
  }
 ],
 "metadata": {
  "kernelspec": {
   "display_name": "Python 3",
   "language": "python",
   "name": "python3"
  },
  "language_info": {
   "codemirror_mode": {
    "name": "ipython",
    "version": 3
   },
   "file_extension": ".py",
   "mimetype": "text/x-python",
   "name": "python",
   "nbconvert_exporter": "python",
   "pygments_lexer": "ipython3",
   "version": "3.12.8"
  }
 },
 "nbformat": 4,
 "nbformat_minor": 5
}
